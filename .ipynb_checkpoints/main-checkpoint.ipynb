{
 "cells": [
  {
   "cell_type": "code",
   "execution_count": 1,
   "metadata": {},
   "outputs": [],
   "source": [
    "from PIL import Image\n",
    "import os\n",
    "\n",
    "countR = 0\n",
    "countG = 0\n",
    "countB = 0\n",
    "for r in range(0, 255, 10):\n",
    "    for b in range(0, 255, 20):\n",
    "        for g in range(0, 255, 20):\n",
    "            if r > b and r > g:\n",
    "                img = Image.new('RGB', (150, 150), (r, g, b))\n",
    "                countR += 1\n",
    "\n",
    "                dire = r\"C:\\\\Users\\\\vinit\\\\Desktop\\\\RGB_Classifier\\\\training\\\\Red\"\n",
    "\n",
    "                full_path = os.path.join(dire, str(countR))\n",
    "                img.save(full_path+'.png', 'JPEG')\n",
    "\n",
    "            elif g > b and r < g:\n",
    "                img = Image.new('RGB', (150, 150), (r, g, b))\n",
    "                countG += 1\n",
    "                dire = r\"C:\\\\Users\\\\vinit\\\\Desktop\\\\RGB_Classifier\\\\training\\\\Green\"\n",
    "\n",
    "                full_path = os.path.join(dire, str(countG))\n",
    "                img.save(full_path+'.png', 'JPEG')\n",
    "\n",
    "            elif r < b and b > g:\n",
    "                img = Image.new('RGB', (150, 150), (r, g, b))\n",
    "                countB += 1\n",
    "                dire = r\"C:\\\\Users\\\\vinit\\\\Desktop\\\\RGB_Classifier\\\\training\\\\Blue\"\n",
    "\n",
    "                full_path = os.path.join(dire, str(countB))\n",
    "                img.save(full_path+'.png', 'JPEG')\n",
    "# C:\\Users\\vinit\\Desktop\\RGB_Classifier\\training\n"
   ]
  },
  {
   "cell_type": "code",
   "execution_count": null,
   "metadata": {},
   "outputs": [],
   "source": []
  }
 ],
 "metadata": {
  "kernelspec": {
   "display_name": "Python 3",
   "language": "python",
   "name": "python3"
  },
  "language_info": {
   "codemirror_mode": {
    "name": "ipython",
    "version": 3
   },
   "file_extension": ".py",
   "mimetype": "text/x-python",
   "name": "python",
   "nbconvert_exporter": "python",
   "pygments_lexer": "ipython3",
   "version": "3.7.4"
  }
 },
 "nbformat": 4,
 "nbformat_minor": 2
}
